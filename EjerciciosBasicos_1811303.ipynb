{
 "cells": [
  {
   "cell_type": "markdown",
   "metadata": {},
   "source": [
    "# Ejercicio 1\n"
   ]
  },
  {
   "cell_type": "code",
   "execution_count": 2,
   "metadata": {},
   "outputs": [
    {
     "name": "stdout",
     "output_type": "stream",
     "text": [
      "Mariann Avila1679234\n"
     ]
    }
   ],
   "source": [
    "a = \"Mariann Avila\"\n",
    "mat = 1811303\n",
    "\n",
    "print (a+str(mat))"
   ]
  },
  {
   "cell_type": "markdown",
   "metadata": {},
   "source": [
    "# Ejercicio 2\n",
    "Pidiendo el input del usuario pide dos números y crea una pequeña calculadora con los operadores básicos de suma, resta, multiplicación, división, y exponente"
   ]
  },
  {
   "cell_type": "code",
   "execution_count": 5,
   "metadata": {},
   "outputs": [
    {
     "name": "stdout",
     "output_type": "stream",
     "text": [
      "Introduce el primer número: 5\n",
      "Introduce el segundo número: 2\n",
      "\n",
      "La suma de los dos numeros es:  7\n",
      "La resta de los dos numeros es:  3\n",
      "La multiplicación de los dos numeros es:  10\n",
      "La división de los dos numeros es:  2.5\n",
      "La exponente del primer numero con el segundo es:  25\n"
     ]
    }
   ],
   "source": [
    "a = int(input(\"Introduce el primer número: \"))\n",
    "b = int(input(\"Introduce el segundo número: \"))\n",
    "\n",
    "c = a+b\n",
    "d = a-b\n",
    "e = a*b\n",
    "f = a/b\n",
    "g = a**b\n",
    "\n",
    "print()\n",
    "print (\"La suma de los dos numeros es: \",c)\n",
    "print (\"La resta de los dos numeros es: \",d)\n",
    "print (\"La multiplicación de los dos numeros es: \",e)\n",
    "print (\"La división del  primer numero entre el segundo: \",f)\n",
    "print (\"La exponente del primer numero con el segundo es: \",g)"
   ]
  },
  {
   "cell_type": "code",
   "execution_count": null,
   "metadata": {},
   "outputs": [],
   "source": []
  },
  {
   "cell_type": "markdown",
   "metadata": {},
   "source": [
    "# Ejercicio 3\n",
    "\n",
    "Con loop while o for, realiza una lista de 10 numeros multiplos de 3, y después realiza una función de loop que sume todos los números dentro del arreglo."
   ]
  },
  {
   "cell_type": "code",
   "execution_count": 22,
   "metadata": {},
   "outputs": [
    {
     "name": "stdout",
     "output_type": "stream",
     "text": [
      "[3, 6, 9, 12, 15, 18, 21, 24, 27, 30]\n",
      "\n",
      "La suma de todos los numeros es:  165\n"
     ]
    }
   ],
   "source": [
    "import random\n",
    "\n",
    "cont = 0\n",
    "lista=[i*3 for i in range(1,11)]\n",
    "print (lista)\n",
    "    \n",
    "for i in range(len(lista)):\n",
    "    cont=cont+lista[i]\n",
    "\n",
    "print()\n",
    "print (\"La suma de todos los numeros es: \",cont)"
   ]
  },
  {
   "cell_type": "markdown",
   "metadata": {},
   "source": [
    "# Ejercicio 4\n",
    "\n",
    "Con una función de if else, revisar si un número es par o es impar.\n",
    "Con una función de if else, revisar si un número es primo o no.\n"
   ]
  },
  {
   "cell_type": "code",
   "execution_count": 13,
   "metadata": {},
   "outputs": [
    {
     "name": "stdout",
     "output_type": "stream",
     "text": [
      "Ingrese un número para revisar si es par o impar: 2\n",
      "\n",
      "El numero es par\n",
      "Ingrese un numero para revisar si es primo o no: 1\n",
      "\n",
      "El numero no es primo\n"
     ]
    }
   ],
   "source": [
    "a = int(input (\"Ingrese un número para revisar si es par o impar: \"))\n",
    "\n",
    "if a%2==0:\n",
    "    print()\n",
    "    print (\"El numero es par\")\n",
    "else: \n",
    "    print()\n",
    "    print (\"El numero es impar\")\n",
    "\n",
    "\n",
    "b = int(input(\"Ingrese un numero para revisar si es primo o no: \"))\n",
    "cont = 0\n",
    "\n",
    "for n in range(1,  b + 1):\n",
    "    if b%n == 0:\n",
    "        cont=cont+1\n",
    "\n",
    "    if cont == 2:\n",
    "        print()\n",
    "        print(\"El numero si es primo\")\n",
    "    else:\n",
    "        print()\n",
    "        print(\"El numero no es primo\")    "
   ]
  },
  {
   "cell_type": "markdown",
   "metadata": {},
   "source": [
    "# Ejercicio 5\n",
    "\n",
    "Utilizando diferentes clases en python, crea una calculadora con los operadores básicos de suma, resta, multiplicación, división, y exponente"
   ]
  },
  {
   "cell_type": "code",
   "execution_count": 14,
   "metadata": {},
   "outputs": [
    {
     "name": "stdout",
     "output_type": "stream",
     "text": [
      "MENU\n",
      "\n",
      "1.Suma\n",
      "2.Resta\n",
      "3.Multiplicación\n",
      "4.División\n",
      "5.Exponente\n",
      "6.Salir\n",
      "\n",
      "¿Qué desea realizar?: 1\n",
      "\n",
      "Ingrese un numéro: 1\n",
      "Ingrese un segundo número: 2\n",
      "\n",
      "Suma =  3\n"
     ]
    }
   ],
   "source": [
    "def Suma(a,b):\n",
    "    c=a+b\n",
    "    return c\n",
    "def Resta(a,b):\n",
    "    c=a-b\n",
    "    return c\n",
    "def Multiplicacion(a,b):\n",
    "    c=a*b\n",
    "    return c\n",
    "def División(a,b):\n",
    "    c=a/b\n",
    "    return c\n",
    "def Exponente(a,b):\n",
    "    c=a**b\n",
    "    return c\n",
    "\n",
    "def Menu():  \n",
    "    print (\"MENU\\n\\n1.Suma\\n2.Resta\\n3.Multiplicación\\n4.División\\n5.Exponente\\n6.Salir\")\n",
    "def Calculadora():\n",
    "    Menu()\n",
    "    print()\n",
    "    opc = int(input(\"¿Qué desea realizar?: \"))\n",
    "    print()\n",
    "    a = int(input(\"Ingrese un numéro: \"))\n",
    "    b = int(input(\"Ingrese un segundo número: \"))\n",
    "    while (opc >0 and opc <6):\n",
    "        if (opc==1):\n",
    "            print()\n",
    "            print (\"Suma = \",Suma(a,b))\n",
    "            break\n",
    "        elif(opc==2):\n",
    "            print()\n",
    "            print (\"Resta =\",Resta(a,b))\n",
    "            break\n",
    "        elif(opc==3):\n",
    "            print()\n",
    "            print (\"Multiplicación =\", Multiplicacion(a,b))\n",
    "            break\n",
    "        elif(opc==4):\n",
    "            print()\n",
    "            print (\"División = \", Division(a,b))\n",
    "            break            \n",
    "        elif(opc==5):\n",
    "            print()\n",
    "            print (\"Exponente =\", Exponente(a,b))\n",
    "            break\n",
    "            \n",
    "Calculadora()\n",
    "\n",
    "\n",
    "\n"
   ]
  },
  {
   "cell_type": "markdown",
   "metadata": {},
   "source": [
    "# Tuplas\n",
    "Crear una variable flotante, integer, boleana y compleja e imprimir el tipo de variable que es.\n",
    "\n",
    "Crear una tupla con valores enteros imprimir el primer y ultimo valor.\n",
    "\n",
    "Añadir 3 valores de string a la tupla.\n",
    "\n",
    "Verificar si una variable existe dentro de la tupla."
   ]
  },
  {
   "cell_type": "code",
   "execution_count": null,
   "metadata": {},
   "outputs": [],
   "source": [
    "import os\n",
    "\n",
    "os.system('cls ')\n",
    "\n",
    "a = 5.5\n",
    "b = 1\n",
    "c = True\n",
    "d = 'hola'\n",
    "print('Variables: ',str(a),',',str(b),',',str(c),',',str(d))\n",
    "print('',type(a),'\\n',type(b),'\\n',type(c),'\\n',type(d))\n",
    "\n",
    "\n",
    "tup = (1,2,3,4,5,6,7,8,9)\n",
    "z = len(tup)\n",
    "print(str(' Tupla:'),str(tup))\n",
    "print(' Primer Valor: ',str(tup[0]),'\\n','Ultimo Valor: ',str(tup[z-1]))\n",
    "\n",
    "\n",
    "print('Tupla antes de agregar strings:',str(tup),'\\n')\n",
    "str1 = str(input('Ingrese primer String: '))\n",
    "str2 = str(input('Ingrese segundo String: '))\n",
    "str3 = str(input('Ingrese tercer String: '))\n",
    "tup = tup + (str1, str2, str3)\n",
    "print('\\nTupla despues de agregar strings:',str(tup))\n",
    "   \n",
    "    \n",
    "    \n",
    "while(True):\n",
    "    print('Tupla:',str(tup),'\\n\\nQuieres verificar strings o numeros? (Escribe S o N):')\n",
    "    x = str(input())\n",
    "    if x == 'S':\n",
    "        x = str(input('\\nIngresa string a verificar (Caps sensitive): '))\n",
    "        y = x in tup\n",
    "        if y == True:\n",
    "            print('\\nSi esta en la tupla')\n",
    "            exit()\n",
    "        else:\n",
    "            print('\\nNo esta en la tupla')\n",
    "            exit()\n",
    "    elif x == 's':\n",
    "        x = str(input('\\nIngresa string a verificar (Caps sensitive): '))\n",
    "        y = x in tup\n",
    "        if y == True:\n",
    "            print('\\nSi esta en la tupla')\n",
    "            exit()\n",
    "        else:\n",
    "            print('\\nNo esta en la tupla')\n",
    "            exit()\n",
    "    elif x == 'N':\n",
    "        x = int(input('\\nIngresa numero a verificar: '))\n",
    "        y = x in tup\n",
    "        if y == True:\n",
    "            print('\\nSi esta en la tupla')\n",
    "            exit()\n",
    "        else:\n",
    "            print('\\nNo esta en la tupla')\n",
    "            exit()\n",
    "    elif x == 'n':\n",
    "        x = int(input('\\nIngresa numero a verificar: '))\n",
    "        y = x in tup\n",
    "        if y == True:\n",
    "            print('\\nSi esta en la tupla')\n",
    "            exit()\n",
    "        else:\n",
    "            print('\\nNo esta en la tupla')\n",
    "            exit()\n",
    "    else:\n",
    "        print('Opcion no valida')"
   ]
  },
  {
   "cell_type": "markdown",
   "metadata": {},
   "source": [
    "# Listas\n",
    "Crear una lista con 40 elementos aleatorios enteros.\n",
    "\n",
    "Con una funcion (def) crear dos listas nuevas a partir de la lista creada por numeros aleatorios, en la cual en una esten los elementos pares, y en la otra los elementos impares.\n",
    "\n",
    "Crear dos variables con la longitud de ambas listas nuevas e imprimir las variables.\n",
    "\n",
    "Ordenar los elementos de la lista par de mayor a menor, y los de la lista impar de menor a mayor.\n",
    "\n",
    "Utilizar al menos cuatro de las funciones de listas en python en la lista original de 40 elementos.\n"
   ]
  },
  {
   "cell_type": "code",
   "execution_count": 19,
   "metadata": {},
   "outputs": [
    {
     "name": "stdout",
     "output_type": "stream",
     "text": [
      "[346, 580, 334, 84, 414, 18, 640, 428, 427, 469, 459, 12, 581, 995, 509, 585, 787, 899, 772, 88, 838, 375, 765, 913, 648, 33, 960, 460, 778, 97, 817, 163, 40, 605, 351, 716, 254, 940, 222, 759]\n",
      "Lista de números pares:  [346, 580, 334, 84, 414, 18, 640, 428, 12, 772, 88, 838, 648, 960, 460, 778, 40, 716, 254, 940, 222]\n",
      "Lista de impares:  [427, 469, 459, 581, 995, 509, 585, 787, 899, 375, 765, 913, 33, 97, 817, 163, 605, 351, 759]\n",
      "Los pares miden:  21\n",
      "Los impares miden:  19\n",
      " Funciones de listas\n",
      "\n",
      " Imprimir los primeros 5 datos\n",
      "[346, 580, 334, 84]\n",
      " Ordenar la lista de menor a mayor\n",
      "[12, 18, 33, 40, 84, 88, 97, 163, 222, 254, 334, 346, 351, 375, 414, 427, 428, 459, 460, 469, 509, 580, 581, 585, 605, 640, 648, 716, 759, 765, 772, 778, 787, 817, 838, 899, 913, 940, 960, 995]\n",
      " Eliminar el ultimo elemento\n",
      "[12, 18, 33, 40, 84, 88, 97, 163, 222, 254, 334, 346, 351, 375, 414, 427, 428, 459, 460, 469, 509, 580, 581, 585, 605, 640, 648, 716, 759, 765, 772, 778, 787, 817, 838, 899, 913, 940, 960]\n"
     ]
    }
   ],
   "source": [
    "import random\n",
    "\n",
    "lista = [0]  * 40\n",
    "for i in range(0,40,1):\n",
    "    lista[i] = random.randint(0, 1000)\n",
    "\n",
    "print(lista)\n",
    "\n",
    "def NumParImp(lista):\n",
    "    impares=[]\n",
    "    pares=[]\n",
    "    for i in range(len(lista)):\n",
    "        if lista[i]%2==0:\n",
    "            pares.append(lista[i])\n",
    "        else:\n",
    "            impares.append(lista[i])\n",
    "    return pares,impares\n",
    "\n",
    "pares,impares=NumParImp(lista)\n",
    "print(\"Lista de números pares: \",pares)\n",
    "print(\"Lista de impares: \",impares)\n",
    "\n",
    "par=len(pares)\n",
    "print (\"Los pares miden: \", par)\n",
    "\n",
    "impar=len(impares)\n",
    "print (\"Los impares miden: \", impar)\n",
    "\n",
    "print(\" Funciones de listas\")\n",
    "print()\n",
    "print (\" Imprimir los primeros 5 datos\")\n",
    "print (lista[0:4])\n",
    "print (\" Ordenar la lista de menor a mayor\")\n",
    "ordenar= lista.sort()\n",
    "print (lista)\n",
    "print (\" Eliminar el ultimo elemento\")\n",
    "removed= lista.pop()\n",
    "print (lista)\n"
   ]
  },
  {
   "cell_type": "markdown",
   "metadata": {},
   "source": [
    "# Diccionarios\n",
    "Crear un diccionario de 6 personas que conozcas con su primer nombre y su edad.\n",
    "\n",
    "Crear una lista con los valores de la edad y reacomodar la lista de menor a mayor valor.\n",
    "\n",
    "Usando el diccionario y un loop, imprimir solo los nombres.\n",
    "\n",
    "Añadir dos personas nuevas a tu diccionario, incluyendo edad."
   ]
  },
  {
   "cell_type": "code",
   "execution_count": 20,
   "metadata": {},
   "outputs": [
    {
     "name": "stdout",
     "output_type": "stream",
     "text": [
      "[15, 65, 20, 20, 21, 23]\n",
      "\n",
      "[15, 20, 20, 21, 23, 65]\n",
      "\n",
      "Julio\n",
      "Yolanda\n",
      " Migle\n",
      "Liz\n",
      "Montse\n",
      "Marisol\n",
      "\n",
      "{'Julio': 15, 'Yolanda': 65, ' Migle': 20, 'Liz': 20, 'Montse': 21, 'Marisol': 23, 'Melany': 20, 'Cristy': 27}\n"
     ]
    }
   ],
   "source": [
    "dicc ={\"Julio\":15,\"Yolanda\":65,\" Migle\":20,\"Liz\":20,\"Montse\":21,\"Marisol\":23}\n",
    "\n",
    "edad = [i for i in dicc.values()]\n",
    "print (edad)\n",
    "\n",
    "print()\n",
    "edad.sort()\n",
    "print (edad)\n",
    "\n",
    "print()\n",
    "for i in dicc:\n",
    "    print (i)\n",
    "    \n",
    "print()\n",
    "dicc[\"Melany\"]=20\n",
    "dicc[\"Cristy\"]=27\n",
    "\n",
    "print (dicc)"
   ]
  },
  {
   "cell_type": "markdown",
   "metadata": {},
   "source": [
    "# Sets\n",
    "Crea un set con 100 numeros aleatorios enteros del 1 al 25.\n",
    "\n",
    "Comprueba la longitud de tu set.\n",
    "\n",
    "Crea una lista de 5 numeros aleatorios del 1 al 10 y comprueba si cada valor aparece en el set inicial."
   ]
  },
  {
   "cell_type": "code",
   "execution_count": 21,
   "metadata": {},
   "outputs": [
    {
     "name": "stdout",
     "output_type": "stream",
     "text": [
      "{1, 2, 3, 4, 5, 6, 7, 8, 9, 10, 11, 12, 13, 14, 15, 16, 17, 18, 19, 20, 21, 22, 23, 24, 25}\n",
      "\n",
      "25\n",
      "\n",
      "[9, 9, 6, 3, 5]\n",
      "\n",
      "Se encuentra en:  9 True\n",
      "Se encuentra en:  9 True\n",
      "Se encuentra en:  6 True\n",
      "Se encuentra en:  3 True\n",
      "Se encuentra en:  5 True\n"
     ]
    }
   ],
   "source": [
    "\n",
    "import random as r\n",
    "\n",
    "a={r.randint(1,25) for i in range(100)}\n",
    "print (a)    \n",
    "\n",
    "print()\n",
    "print (len (a))\n",
    "\n",
    "print()\n",
    "b=[r.randint(1,10) for i in range(5)]\n",
    "print (b)\n",
    "\n",
    "print()\n",
    "for i in range(len(b)):\n",
    "    print(\"Se encuentra en: \", b[i], b[i] in a)"
   ]
  },
  {
   "cell_type": "code",
   "execution_count": null,
   "metadata": {},
   "outputs": [],
   "source": []
  }
 ],
 "metadata": {
  "kernelspec": {
   "display_name": "Python 3",
   "language": "python",
   "name": "python3"
  },
  "language_info": {
   "codemirror_mode": {
    "name": "ipython",
    "version": 3
   },
   "file_extension": ".py",
   "mimetype": "text/x-python",
   "name": "python",
   "nbconvert_exporter": "python",
   "pygments_lexer": "ipython3",
   "version": "3.8.3"
  }
 },
 "nbformat": 4,
 "nbformat_minor": 4
}
